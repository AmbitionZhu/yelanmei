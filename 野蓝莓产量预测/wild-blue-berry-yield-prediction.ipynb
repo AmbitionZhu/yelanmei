{
 "cells": [
  {
   "cell_type": "code",
   "execution_count": 3,
   "metadata": {
    "_cell_guid": "b1076dfc-b9ad-4769-8c92-a6c4dae69d19",
    "_uuid": "8f2839f25d086af736a60e9eeb907d3b93b6e0e5",
    "execution": {
     "iopub.execute_input": "2022-12-18T13:14:21.580399Z",
     "iopub.status.busy": "2022-12-18T13:14:21.579957Z",
     "iopub.status.idle": "2022-12-18T13:14:21.598626Z",
     "shell.execute_reply": "2022-12-18T13:14:21.596478Z",
     "shell.execute_reply.started": "2022-12-18T13:14:21.580367Z"
    },
    "trusted": true
   },
   "outputs": [
    {
     "name": "stdout",
     "output_type": "stream",
     "text": [
      "/kaggle/input/wildblueberrydatasetpollinationsimulation/WildBlueberryPollinationSimulationData.csv\n"
     ]
    }
   ],
   "source": [
    "import numpy as np # linear algebra\n",
    "import pandas as pd # data processing, CSV file I/O (e.g. pd.read_csv)\n",
    "import matplotlib.pyplot as plt\n",
    "import seaborn as sns\n",
    "from sklearn.feature_selection import mutual_info_regression, SelectKBest\n",
    "from sklearn.cluster import KMeans\n",
    "from sklearn.preprocessing import StandardScaler, MinMaxScaler\n",
    "from sklearn.model_selection import train_test_split, cross_val_score, KFold, GridSearchCV, RepeatedKFold\n",
    "from sklearn.ensemble import AdaBoostRegressor, GradientBoostingRegressor, RandomForestRegressor\n",
    "from sklearn.metrics import mean_squared_error, r2_score, mean_absolute_error\n",
    "import sklearn\n",
    "from sklearn.pipeline import Pipeline\n",
    "from sklearn.model_selection import GridSearchCV\n",
    "import statsmodels.api as sm\n",
    "from xgboost import XGBRegressor\n",
    "import xgboost\n",
    "import shap\n",
    "import joblib\n",
    "\n",
    "import os\n",
    "for dirname, _, filenames in os.walk('/kaggle/input'):\n",
    "    for filename in filenames:\n",
    "        print(os.path.join(dirname, filename))"
   ]
  },
  {
   "cell_type": "code",
   "execution_count": 4,
   "metadata": {
    "execution": {
     "iopub.execute_input": "2022-12-18T13:14:23.534481Z",
     "iopub.status.busy": "2022-12-18T13:14:23.533949Z",
     "iopub.status.idle": "2022-12-18T13:14:23.544467Z",
     "shell.execute_reply": "2022-12-18T13:14:23.543239Z",
     "shell.execute_reply.started": "2022-12-18T13:14:23.534442Z"
    },
    "trusted": true
   },
   "outputs": [
    {
     "data": {
      "text/plain": [
       "'1.6.2'"
      ]
     },
     "execution_count": 4,
     "metadata": {},
     "output_type": "execute_result"
    }
   ],
   "source": [
    "xgboost.__version__"
   ]
  },
  {
   "cell_type": "code",
   "execution_count": null,
   "metadata": {
    "execution": {
     "iopub.execute_input": "2022-12-14T15:10:33.638573Z",
     "iopub.status.busy": "2022-12-14T15:10:33.638035Z",
     "iopub.status.idle": "2022-12-14T15:10:33.691947Z",
     "shell.execute_reply": "2022-12-14T15:10:33.690781Z",
     "shell.execute_reply.started": "2022-12-14T15:10:33.638529Z"
    },
    "trusted": true
   },
   "outputs": [],
   "source": [
    "df = pd.read_csv(\"/wildblueberrydatasetpollinationsimulation/WildBlueberryPollinationSimulationData.csv\", index_col='Row#')\n",
    "df.head()"
   ]
  },
  {
   "cell_type": "code",
   "execution_count": null,
   "metadata": {
    "execution": {
     "iopub.execute_input": "2022-12-14T15:10:33.694748Z",
     "iopub.status.busy": "2022-12-14T15:10:33.693993Z",
     "iopub.status.idle": "2022-12-14T15:10:33.714316Z",
     "shell.execute_reply": "2022-12-14T15:10:33.712858Z",
     "shell.execute_reply.started": "2022-12-14T15:10:33.694699Z"
    },
    "trusted": true
   },
   "outputs": [],
   "source": [
    "df.info()"
   ]
  },
  {
   "cell_type": "code",
   "execution_count": null,
   "metadata": {
    "execution": {
     "iopub.execute_input": "2022-12-14T15:10:33.718482Z",
     "iopub.status.busy": "2022-12-14T15:10:33.717763Z",
     "iopub.status.idle": "2022-12-14T15:10:33.796416Z",
     "shell.execute_reply": "2022-12-14T15:10:33.794620Z",
     "shell.execute_reply.started": "2022-12-14T15:10:33.718434Z"
    },
    "trusted": true
   },
   "outputs": [],
   "source": [
    "df.describe()"
   ]
  },
  {
   "cell_type": "code",
   "execution_count": null,
   "metadata": {
    "execution": {
     "iopub.execute_input": "2022-12-14T15:10:33.799717Z",
     "iopub.status.busy": "2022-12-14T15:10:33.798728Z",
     "iopub.status.idle": "2022-12-14T15:10:33.807127Z",
     "shell.execute_reply": "2022-12-14T15:10:33.805876Z",
     "shell.execute_reply.started": "2022-12-14T15:10:33.799664Z"
    },
    "trusted": true
   },
   "outputs": [],
   "source": [
    "features_df = df.drop('yield', axis=1)\n",
    "tar = df['yield']"
   ]
  },
  {
   "cell_type": "code",
   "execution_count": null,
   "metadata": {
    "execution": {
     "iopub.execute_input": "2022-12-14T15:10:33.809455Z",
     "iopub.status.busy": "2022-12-14T15:10:33.808692Z",
     "iopub.status.idle": "2022-12-14T15:10:35.475655Z",
     "shell.execute_reply": "2022-12-14T15:10:35.474199Z",
     "shell.execute_reply.started": "2022-12-14T15:10:33.809416Z"
    },
    "trusted": true
   },
   "outputs": [],
   "source": [
    "plt.figure(figsize=(15,15))\n",
    "sns.heatmap(df.corr(), annot=True, vmin=-1, vmax=1)\n",
    "plt.show()"
   ]
  },
  {
   "cell_type": "code",
   "execution_count": null,
   "metadata": {
    "execution": {
     "iopub.execute_input": "2022-12-14T15:10:35.478376Z",
     "iopub.status.busy": "2022-12-14T15:10:35.477537Z",
     "iopub.status.idle": "2022-12-14T15:10:35.669071Z",
     "shell.execute_reply": "2022-12-14T15:10:35.667794Z",
     "shell.execute_reply.started": "2022-12-14T15:10:35.478327Z"
    },
    "trusted": true
   },
   "outputs": [],
   "source": [
    "plt.figure(figsize=(5,5))\n",
    "sns.boxplot(x='yield', data=df)\n",
    "plt.show()"
   ]
  },
  {
   "cell_type": "code",
   "execution_count": null,
   "metadata": {
    "execution": {
     "iopub.execute_input": "2022-12-14T15:10:35.673980Z",
     "iopub.status.busy": "2022-12-14T15:10:35.673201Z",
     "iopub.status.idle": "2022-12-14T15:11:16.176381Z",
     "shell.execute_reply": "2022-12-14T15:11:16.175091Z",
     "shell.execute_reply.started": "2022-12-14T15:10:35.673916Z"
    },
    "trusted": true
   },
   "outputs": [],
   "source": [
    "sns.pairplot(df, \n",
    "            height=4,\n",
    "            plot_kws = {'alpha': 0.4, 's': 30, 'edgecolor': 'k'},\n",
    "            corner=True\n",
    "           );"
   ]
  },
  {
   "cell_type": "code",
   "execution_count": null,
   "metadata": {
    "execution": {
     "iopub.execute_input": "2022-12-14T15:11:16.178309Z",
     "iopub.status.busy": "2022-12-14T15:11:16.177861Z",
     "iopub.status.idle": "2022-12-14T15:11:16.191554Z",
     "shell.execute_reply": "2022-12-14T15:11:16.190494Z",
     "shell.execute_reply.started": "2022-12-14T15:11:16.178276Z"
    },
    "trusted": true
   },
   "outputs": [],
   "source": [
    "df.nunique()"
   ]
  },
  {
   "cell_type": "code",
   "execution_count": null,
   "metadata": {
    "execution": {
     "iopub.execute_input": "2022-12-14T15:11:16.198461Z",
     "iopub.status.busy": "2022-12-14T15:11:16.198027Z",
     "iopub.status.idle": "2022-12-14T15:11:18.271055Z",
     "shell.execute_reply": "2022-12-14T15:11:18.269559Z",
     "shell.execute_reply.started": "2022-12-14T15:11:16.198424Z"
    },
    "trusted": true
   },
   "outputs": [],
   "source": [
    "nominal_df = df[['MaxOfUpperTRange','MinOfUpperTRange','AverageOfUpperTRange','MaxOfLowerTRange',\n",
    "               'MinOfLowerTRange','AverageOfLowerTRange','RainingDays','AverageRainingDays']]\n",
    "\n",
    "fig, ax = plt.subplots(2,4, figsize=(20,13))\n",
    "for e, col in enumerate(nominal_df.columns):\n",
    "    if e<=3:\n",
    "        sns.boxplot(data=df, x=col, y='yield', ax=ax[0,e])\n",
    "    else:\n",
    "        sns.boxplot(data=df, x=col, y='yield', ax=ax[1,e-4])       \n",
    "plt.show()"
   ]
  },
  {
   "cell_type": "code",
   "execution_count": null,
   "metadata": {
    "execution": {
     "iopub.execute_input": "2022-12-14T15:11:18.273654Z",
     "iopub.status.busy": "2022-12-14T15:11:18.272873Z",
     "iopub.status.idle": "2022-12-14T15:11:18.988889Z",
     "shell.execute_reply": "2022-12-14T15:11:18.987510Z",
     "shell.execute_reply.started": "2022-12-14T15:11:18.273618Z"
    },
    "trusted": true
   },
   "outputs": [],
   "source": [
    "plt.figure(figsize=(15,10))\n",
    "plt.subplot(2,3,1)\n",
    "plt.hist(df['bumbles'])\n",
    "plt.title(\"Histogram of bumbles column\")\n",
    "plt.subplot(2,3,2)\n",
    "plt.hist(df['andrena'])\n",
    "plt.title(\"Histogram of andrena column\")\n",
    "plt.subplot(2,3,3)\n",
    "plt.hist(df['osmia'])\n",
    "plt.title(\"Histogram of osmia column\")\n",
    "plt.subplot(2,3,4)\n",
    "plt.hist(df['clonesize'])\n",
    "plt.title(\"Histogram of clonesize column\")\n",
    "plt.subplot(2,3,5)\n",
    "plt.hist(df['honeybee'])\n",
    "plt.title(\"Histogram of honeybee column\")\n",
    "plt.show()"
   ]
  },
  {
   "cell_type": "markdown",
   "metadata": {},
   "source": [
    "## Observations:\n",
    "\n",
    "- Upper and lower T range columns correlate with each other\n",
    "- Rainy days and average rainy days correlates with each other\n",
    "- Fruitmass, fruitset and seeds are correlated\n",
    "- 'bumbles' column is highly imbalance while 'andrena' and 'osmia' columns are not\n",
    "- 'honeybee' is also imbalanced column compared to 'clonesize'"
   ]
  },
  {
   "cell_type": "code",
   "execution_count": null,
   "metadata": {
    "execution": {
     "iopub.execute_input": "2022-12-14T15:11:18.990443Z",
     "iopub.status.busy": "2022-12-14T15:11:18.990111Z",
     "iopub.status.idle": "2022-12-14T15:11:19.092052Z",
     "shell.execute_reply": "2022-12-14T15:11:19.090820Z",
     "shell.execute_reply.started": "2022-12-14T15:11:18.990411Z"
    },
    "trusted": true
   },
   "outputs": [],
   "source": [
    "# run the MI scores of the dataset\n",
    "mi_score = mutual_info_regression(features_df, tar, n_neighbors=3,random_state=42)\n",
    "mi_score_df = pd.DataFrame({'columns':features_df.columns, 'MI_score':mi_score})\n",
    "mi_score_df.sort_values(by='MI_score', ascending=False)"
   ]
  },
  {
   "cell_type": "markdown",
   "metadata": {},
   "source": [
    "- We can see TOP features with high correlation with target variable, we can keep most significant features and remove less significant features for modeling task\n",
    "- We will keep types of bees columns + clonesize and averageoflower and upper T range features for modeling\n",
    "- Cluster all 4 types of Bees to reduce features\n",
    "- standardize the dataset and build baseline using GBT and RandomForest\n",
    "- We will remove fruitset, fruitmass and seeds columns as they are part of Target only (Domain Knowledge insight)"
   ]
  },
  {
   "cell_type": "code",
   "execution_count": null,
   "metadata": {
    "execution": {
     "iopub.execute_input": "2022-12-14T15:11:19.094138Z",
     "iopub.status.busy": "2022-12-14T15:11:19.093710Z",
     "iopub.status.idle": "2022-12-14T15:11:19.168461Z",
     "shell.execute_reply": "2022-12-14T15:11:19.167528Z",
     "shell.execute_reply.started": "2022-12-14T15:11:19.094095Z"
    },
    "trusted": true
   },
   "outputs": [],
   "source": [
    "# clustering using kmeans algorithm\n",
    "X_clus = features_df[['honeybee','osmia','bumbles','andrena']]\n",
    "\n",
    "scaler = StandardScaler()\n",
    "scaler.fit(X_clus)\n",
    "X_new_clus = scaler.transform(X_clus)\n",
    "\n",
    "clustering = KMeans(n_clusters=3, random_state=42)\n",
    "clustering.fit(X_new_clus)\n",
    "n_cluster = clustering.labels_"
   ]
  },
  {
   "cell_type": "code",
   "execution_count": null,
   "metadata": {
    "execution": {
     "iopub.execute_input": "2022-12-14T15:11:19.175098Z",
     "iopub.status.busy": "2022-12-14T15:11:19.170123Z",
     "iopub.status.idle": "2022-12-14T15:11:19.190747Z",
     "shell.execute_reply": "2022-12-14T15:11:19.189801Z",
     "shell.execute_reply.started": "2022-12-14T15:11:19.175038Z"
    },
    "trusted": true
   },
   "outputs": [],
   "source": [
    "# add new feature to feature_Df \n",
    "features_df['n_cluster'] = n_cluster\n",
    "df['n_cluster'] = n_cluster\n",
    "features_df['n_cluster'].value_counts()"
   ]
  },
  {
   "cell_type": "code",
   "execution_count": null,
   "metadata": {
    "execution": {
     "iopub.execute_input": "2022-12-14T15:11:19.193633Z",
     "iopub.status.busy": "2022-12-14T15:11:19.193140Z",
     "iopub.status.idle": "2022-12-14T15:11:19.522392Z",
     "shell.execute_reply": "2022-12-14T15:11:19.521142Z",
     "shell.execute_reply.started": "2022-12-14T15:11:19.193589Z"
    },
    "trusted": true
   },
   "outputs": [],
   "source": [
    "# let's plot most imporatant feature VS yield\n",
    "plt.figure(figsize=(6,6))\n",
    "sns.scatterplot(x='seeds', y='yield', hue='n_cluster', data=df)\n",
    "plt.title(\"Clustering scatter plot\")\n",
    "plt.show()"
   ]
  },
  {
   "cell_type": "markdown",
   "metadata": {},
   "source": [
    "- Clustering helps to divide samples into three group and it can be seen 'yield' VS 'seeds' plot\n",
    "- We will reduce the feature set to select best features from our EDA proceed to build baseline modelling"
   ]
  },
  {
   "cell_type": "code",
   "execution_count": null,
   "metadata": {
    "execution": {
     "iopub.execute_input": "2022-12-14T15:11:19.524263Z",
     "iopub.status.busy": "2022-12-14T15:11:19.523803Z",
     "iopub.status.idle": "2022-12-14T15:11:19.532609Z",
     "shell.execute_reply": "2022-12-14T15:11:19.531232Z",
     "shell.execute_reply.started": "2022-12-14T15:11:19.524180Z"
    },
    "trusted": true
   },
   "outputs": [],
   "source": [
    "features_set = ['AverageRainingDays','clonesize','AverageOfLowerTRange',\n",
    "               'AverageOfUpperTRange','honeybee','osmia','bumbles','andrena','n_cluster']\n",
    "\n",
    "# final dataframe\n",
    "X = features_df[features_set]\n",
    "y = tar.round(1)"
   ]
  },
  {
   "cell_type": "code",
   "execution_count": null,
   "metadata": {
    "execution": {
     "iopub.execute_input": "2022-12-14T15:11:19.534388Z",
     "iopub.status.busy": "2022-12-14T15:11:19.533994Z",
     "iopub.status.idle": "2022-12-14T15:11:19.548194Z",
     "shell.execute_reply": "2022-12-14T15:11:19.547208Z",
     "shell.execute_reply.started": "2022-12-14T15:11:19.534343Z"
    },
    "trusted": true
   },
   "outputs": [],
   "source": [
    "# train and test dataset to build baseline model using GBT and RFs by scaling the dataset\n",
    "mx_scaler = MinMaxScaler()\n",
    "X_scaled = pd.DataFrame(mx_scaler.fit_transform(X))\n",
    "X_scaled.columns = X.columns"
   ]
  },
  {
   "cell_type": "markdown",
   "metadata": {},
   "source": [
    "## Baseline"
   ]
  },
  {
   "cell_type": "code",
   "execution_count": null,
   "metadata": {
    "execution": {
     "iopub.execute_input": "2022-12-14T15:11:19.550526Z",
     "iopub.status.busy": "2022-12-14T15:11:19.549286Z",
     "iopub.status.idle": "2022-12-14T15:11:21.451693Z",
     "shell.execute_reply": "2022-12-14T15:11:21.450442Z",
     "shell.execute_reply.started": "2022-12-14T15:11:19.550486Z"
    },
    "trusted": true
   },
   "outputs": [],
   "source": [
    "# let's fit the data to the models\n",
    "model_dict = {\"abr\": AdaBoostRegressor(), \n",
    "              \"gbr\": GradientBoostingRegressor(), \n",
    "              \"rfr\": RandomForestRegressor()\n",
    "             }\n",
    "\n",
    "for key, val in model_dict.items():\n",
    "    print(f\"cross validation for {key}\")\n",
    "    score = cross_val_score(val, X_scaled, y, cv=5, scoring='neg_mean_squared_error')\n",
    "    mean_score = -np.sum(score)/5\n",
    "    sqrt_score = np.sqrt(mean_score) \n",
    "    print(sqrt_score)"
   ]
  },
  {
   "cell_type": "markdown",
   "metadata": {},
   "source": [
    "- lowest score is for adaboost regressor"
   ]
  },
  {
   "cell_type": "markdown",
   "metadata": {},
   "source": [
    "## GBM modeling 1st iteration"
   ]
  },
  {
   "cell_type": "code",
   "execution_count": null,
   "metadata": {
    "execution": {
     "iopub.execute_input": "2022-12-14T15:11:21.453239Z",
     "iopub.status.busy": "2022-12-14T15:11:21.452920Z",
     "iopub.status.idle": "2022-12-14T15:11:21.539313Z",
     "shell.execute_reply": "2022-12-14T15:11:21.538038Z",
     "shell.execute_reply.started": "2022-12-14T15:11:21.453210Z"
    },
    "trusted": true
   },
   "outputs": [],
   "source": [
    "# split the train and test data\n",
    "X_train, X_test, y_train, y_test = train_test_split(X_scaled, y, test_size=0.2, random_state=42)\n",
    "\n",
    "bgt = GradientBoostingRegressor(random_state=42)\n",
    "bgt.fit(X_train,y_train)\n",
    "preds = bgt.predict(X_test)\n",
    "score = bgt.score(X_train,y_train)\n",
    "rmse_score = np.sqrt(mean_squared_error(y_test, preds))\n",
    "r2_score = r2_score(y_test, preds)\n",
    "print(\"RMSE score gradient boosting machine:\", rmse_score)      \n",
    "print(\"R2 score for the model: \", r2_score)"
   ]
  },
  {
   "cell_type": "markdown",
   "metadata": {},
   "source": [
    "## Hyper parameter tuning using gridsearchCV"
   ]
  },
  {
   "cell_type": "code",
   "execution_count": null,
   "metadata": {
    "execution": {
     "iopub.execute_input": "2022-12-14T15:11:21.541159Z",
     "iopub.status.busy": "2022-12-14T15:11:21.540751Z",
     "iopub.status.idle": "2022-12-14T15:12:58.678553Z",
     "shell.execute_reply": "2022-12-14T15:12:58.676335Z",
     "shell.execute_reply.started": "2022-12-14T15:11:21.541125Z"
    },
    "trusted": true
   },
   "outputs": [],
   "source": [
    "kf = KFold(n_splits = 5, shuffle=True, random_state=0)\n",
    "\n",
    "param_grid = {'n_estimators': [100,200,400,500,800],\n",
    "             'learning_rate': [0.1,0.05,0.3,0.7],\n",
    "             'min_samples_split': [2,4],\n",
    "             'min_samples_leaf': [0.1,0.4],\n",
    "             'max_depth': [3,4,7]\n",
    "             }\n",
    "\n",
    "estimator = GradientBoostingRegressor(random_state=42)\n",
    "\n",
    "clf = GridSearchCV(estimator=estimator, param_grid=param_grid, cv=kf, \n",
    "                   scoring='neg_mean_squared_error', n_jobs=-1)\n",
    "clf.fit(X_scaled,y)\n",
    "\n",
    "best_estim = clf.best_estimator_\n",
    "best_score = clf.best_score_\n",
    "best_param = clf.best_params_\n",
    "print(\"Best Estimator:\", best_estim)\n",
    "print(\"Best score:\", np.sqrt(-best_score))"
   ]
  },
  {
   "cell_type": "markdown",
   "metadata": {},
   "source": [
    "## Regression modeling using statsmodels API"
   ]
  },
  {
   "cell_type": "code",
   "execution_count": null,
   "metadata": {
    "execution": {
     "iopub.execute_input": "2022-12-14T15:12:58.681267Z",
     "iopub.status.busy": "2022-12-14T15:12:58.680817Z",
     "iopub.status.idle": "2022-12-14T15:12:58.707849Z",
     "shell.execute_reply": "2022-12-14T15:12:58.706415Z",
     "shell.execute_reply.started": "2022-12-14T15:12:58.681224Z"
    },
    "trusted": true
   },
   "outputs": [],
   "source": [
    "# building statsmodel regression model\n",
    "model = sm.OLS(y, X_scaled)\n",
    "results = model.fit()\n",
    "print(results.summary())"
   ]
  },
  {
   "cell_type": "code",
   "execution_count": null,
   "metadata": {
    "execution": {
     "iopub.execute_input": "2022-12-14T15:12:58.710845Z",
     "iopub.status.busy": "2022-12-14T15:12:58.710325Z",
     "iopub.status.idle": "2022-12-14T15:12:59.361250Z",
     "shell.execute_reply": "2022-12-14T15:12:59.360285Z",
     "shell.execute_reply.started": "2022-12-14T15:12:58.710799Z"
    },
    "trusted": true
   },
   "outputs": [],
   "source": [
    "shap_tree = shap.TreeExplainer(bgt)\n",
    "shap_values = shap_tree.shap_values(X_test)\n",
    "shap.summary_plot(shap_values, X_test)"
   ]
  },
  {
   "cell_type": "code",
   "execution_count": null,
   "metadata": {
    "execution": {
     "iopub.execute_input": "2022-12-14T15:12:59.363103Z",
     "iopub.status.busy": "2022-12-14T15:12:59.362388Z",
     "iopub.status.idle": "2022-12-14T15:12:59.668411Z",
     "shell.execute_reply": "2022-12-14T15:12:59.667262Z",
     "shell.execute_reply.started": "2022-12-14T15:12:59.363068Z"
    },
    "trusted": true
   },
   "outputs": [],
   "source": [
    "shap.summary_plot(shap_values, X_test, plot_type='bar')"
   ]
  },
  {
   "cell_type": "markdown",
   "metadata": {},
   "source": [
    "## Building ML models using sklearn pipeline object to improve RMSE score"
   ]
  },
  {
   "cell_type": "code",
   "execution_count": null,
   "metadata": {
    "execution": {
     "iopub.execute_input": "2022-12-14T15:12:59.671065Z",
     "iopub.status.busy": "2022-12-14T15:12:59.670269Z",
     "iopub.status.idle": "2022-12-14T15:12:59.680228Z",
     "shell.execute_reply": "2022-12-14T15:12:59.678670Z",
     "shell.execute_reply.started": "2022-12-14T15:12:59.671018Z"
    },
    "trusted": true
   },
   "outputs": [],
   "source": [
    "# repeated kfold to \n",
    "cv = RepeatedKFold(n_splits= 5, n_repeats = 3, random_state = 1)\n",
    "fs_info_v0 = SelectKBest(score_func = mutual_info_regression)\n",
    "\n",
    "# define pipeline object\n",
    "pipe_rf = Pipeline([\n",
    "    ('sel', fs_info_v0), \n",
    "    ('model', RandomForestRegressor(random_state=1))\n",
    "])\n",
    "\n",
    "pipe_xgb = Pipeline([\n",
    "    ('sel', fs_info_v0), \n",
    "    ('model', XGBRegressor(random_state=1))\n",
    "])\n"
   ]
  },
  {
   "cell_type": "code",
   "execution_count": null,
   "metadata": {
    "execution": {
     "iopub.execute_input": "2022-12-14T15:12:59.682356Z",
     "iopub.status.busy": "2022-12-14T15:12:59.681644Z",
     "iopub.status.idle": "2022-12-14T15:12:59.698361Z",
     "shell.execute_reply": "2022-12-14T15:12:59.697008Z",
     "shell.execute_reply.started": "2022-12-14T15:12:59.682319Z"
    },
    "trusted": true
   },
   "outputs": [],
   "source": [
    "# prepare the parameters grid\n",
    "grid_params_rf = [{'sel__k': [i for i in range(X_train.shape[1]-6, X_train.shape[1]-4)],\n",
    "                   'model__max_depth': [15, 18, 10],\n",
    "                   'model__min_samples_split': [15, 18, 10],\n",
    "                   'model__n_estimators': [100,200,400,500]\n",
    "                  }]\n",
    "\n",
    "grid_params_xgb = [{'sel__k': [i for i in range(X_train.shape[1]-6, X_train.shape[1]-4)],\n",
    "                    'model__max_depth': [9,12],\n",
    "                    'model__min_child_weight': [7,8],\n",
    "                    'model__subsample': [i/10. for i in range(9,11)]\n",
    "                   }]"
   ]
  },
  {
   "cell_type": "code",
   "execution_count": null,
   "metadata": {
    "execution": {
     "iopub.execute_input": "2022-12-14T15:12:59.700285Z",
     "iopub.status.busy": "2022-12-14T15:12:59.699956Z",
     "iopub.status.idle": "2022-12-14T15:12:59.711050Z",
     "shell.execute_reply": "2022-12-14T15:12:59.710126Z",
     "shell.execute_reply.started": "2022-12-14T15:12:59.700257Z"
    },
    "trusted": true
   },
   "outputs": [],
   "source": [
    "# set up the gridsearchCV objects\n",
    "RF = GridSearchCV(estimator=pipe_rf,\n",
    "            param_grid=grid_params_rf,\n",
    "            scoring='neg_mean_absolute_error',\n",
    "            cv=cv, \n",
    "            n_jobs= -1)\n",
    "\n",
    "XGB = GridSearchCV(estimator=pipe_xgb,\n",
    "            param_grid=grid_params_xgb,\n",
    "            scoring='neg_mean_absolute_error',\n",
    "            cv=cv, \n",
    "            n_jobs= -1)\n",
    "\n",
    "# list of regression models\n",
    "grids = [RF,XGB]\n",
    "\n",
    "# Creating a dict for our reference\n",
    "grid_dict = { \n",
    "        0: 'Random Forest',\n",
    "        1: 'XGBoost'\n",
    "    }"
   ]
  },
  {
   "cell_type": "code",
   "execution_count": null,
   "metadata": {
    "execution": {
     "iopub.execute_input": "2022-12-14T15:12:59.712712Z",
     "iopub.status.busy": "2022-12-14T15:12:59.712376Z",
     "iopub.status.idle": "2022-12-14T15:12:59.726549Z",
     "shell.execute_reply": "2022-12-14T15:12:59.725329Z",
     "shell.execute_reply.started": "2022-12-14T15:12:59.712684Z"
    },
    "trusted": true
   },
   "outputs": [],
   "source": [
    "# Start form initial scaled model: X_train and X_test, y_train and y_test\n",
    "def extract_best_model(grids: list, grid_dict: dict):\n",
    "    print('Performing model optimizations...')\n",
    "    least_mae = 270817\n",
    "    best_regr = 0\n",
    "    best_gs = ''\n",
    "    for idx, gs in enumerate(grids):\n",
    "        print('\\nEstimator: %s' % grid_dict[idx])\n",
    "        gs.fit(X_train, y_train)\n",
    "        print('Best Config: %s' % gs.best_params_)\n",
    "        # Best training data accuracy\n",
    "        print('Best MAE: %.3f' % gs.best_score_)\n",
    "        # Predict on test data with best params\n",
    "        y_pred_v0 = gs.predict(X_test)\n",
    "        # Test data accuracy of model with best params\n",
    "        print('Test set mean absolute error for best params: %.3f ' % mean_absolute_error(y_test, y_pred_v0))\n",
    "        print('Test set root mean squared error for best params: %.3f ' % np.sqrt(mean_absolute_error(y_test, y_pred_v0)))\n",
    "        \n",
    "        # Track best (least test error) model\n",
    "        if mean_absolute_error(y_test, y_pred_v0) < least_mae:\n",
    "            least_mae = mean_absolute_error(y_test, y_pred_v0)\n",
    "            best_gs = gs\n",
    "            best_regr = idx\n",
    "    print('\\nClassifier with least test set MAE: %s' % grid_dict[best_regr])\n",
    "\n",
    "    \n",
    "    return (grid_dict[best_regr], best_gs, least_mae)"
   ]
  },
  {
   "cell_type": "code",
   "execution_count": null,
   "metadata": {
    "execution": {
     "iopub.execute_input": "2022-12-14T15:12:59.733026Z",
     "iopub.status.busy": "2022-12-14T15:12:59.732125Z",
     "iopub.status.idle": "2022-12-14T15:17:11.901960Z",
     "shell.execute_reply": "2022-12-14T15:17:11.901025Z",
     "shell.execute_reply.started": "2022-12-14T15:12:59.732971Z"
    },
    "trusted": true
   },
   "outputs": [],
   "source": [
    "# run the pipeline and print the results\n",
    "best_model_name_v0, best_model_v0, least_mae_v0 = extract_best_model(grids= grids, grid_dict = grid_dict)\n",
    "\n",
    "print(f\"Best Model: {best_model_name_v0}\")\n",
    "print(f\"Error Rate: {least_mae_v0}\")\n",
    "print(best_model_v0)"
   ]
  },
  {
   "cell_type": "markdown",
   "metadata": {},
   "source": [
    "### Flask-deplyment files"
   ]
  },
  {
   "cell_type": "code",
   "execution_count": null,
   "metadata": {
    "execution": {
     "iopub.execute_input": "2022-12-14T16:28:32.680620Z",
     "iopub.status.busy": "2022-12-14T16:28:32.680098Z",
     "iopub.status.idle": "2022-12-14T16:28:32.689017Z",
     "shell.execute_reply": "2022-12-14T16:28:32.687832Z",
     "shell.execute_reply.started": "2022-12-14T16:28:32.680575Z"
    },
    "trusted": true
   },
   "outputs": [],
   "source": [
    "X_train_n = X_train.drop('n_cluster', axis=1)\n",
    "X_test_n = X_test.drop('n_cluster', axis=1)"
   ]
  },
  {
   "cell_type": "code",
   "execution_count": null,
   "metadata": {
    "execution": {
     "iopub.execute_input": "2022-12-14T16:28:59.240152Z",
     "iopub.status.busy": "2022-12-14T16:28:59.239613Z",
     "iopub.status.idle": "2022-12-14T16:29:00.287932Z",
     "shell.execute_reply": "2022-12-14T16:29:00.286841Z",
     "shell.execute_reply.started": "2022-12-14T16:28:59.240110Z"
    },
    "trusted": true
   },
   "outputs": [],
   "source": [
    "# train flask deployment\n",
    "xgb_model = XGBRegressor(max_depth=9, min_child_weight=7, subsample=1.0)\n",
    "xgb_model.fit(X_train_n, y_train)\n",
    "pr = xgb_model.predict(X_test_n)\n",
    "err = mean_absolute_error(y_test, pr)\n",
    "rmse_n = np.sqrt(mean_squared_error(y_test, pr))\n",
    "print(err)"
   ]
  },
  {
   "cell_type": "code",
   "execution_count": null,
   "metadata": {
    "execution": {
     "iopub.execute_input": "2022-12-14T16:29:06.507094Z",
     "iopub.status.busy": "2022-12-14T16:29:06.506666Z",
     "iopub.status.idle": "2022-12-14T16:29:06.513032Z",
     "shell.execute_reply": "2022-12-14T16:29:06.511619Z",
     "shell.execute_reply.started": "2022-12-14T16:29:06.507053Z"
    },
    "trusted": true
   },
   "outputs": [],
   "source": [
    "print(rmse_n)"
   ]
  },
  {
   "cell_type": "code",
   "execution_count": null,
   "metadata": {
    "execution": {
     "iopub.execute_input": "2022-12-14T16:29:32.302642Z",
     "iopub.status.busy": "2022-12-14T16:29:32.301587Z",
     "iopub.status.idle": "2022-12-14T16:29:32.311930Z",
     "shell.execute_reply": "2022-12-14T16:29:32.309546Z",
     "shell.execute_reply.started": "2022-12-14T16:29:32.302587Z"
    },
    "trusted": true
   },
   "outputs": [],
   "source": [
    "X_test_n.columns"
   ]
  },
  {
   "cell_type": "code",
   "execution_count": null,
   "metadata": {
    "execution": {
     "iopub.execute_input": "2022-12-14T16:29:42.744333Z",
     "iopub.status.busy": "2022-12-14T16:29:42.743887Z",
     "iopub.status.idle": "2022-12-14T16:29:42.762229Z",
     "shell.execute_reply": "2022-12-14T16:29:42.761164Z",
     "shell.execute_reply.started": "2022-12-14T16:29:42.744298Z"
    },
    "trusted": true
   },
   "outputs": [],
   "source": [
    "joblib.dump(xgb_model, 'wbb_xgb_model2.joblib')"
   ]
  },
  {
   "cell_type": "markdown",
   "metadata": {},
   "source": [
    "## Conclusions\n",
    "\n",
    "- Final modeling pipeline shows XGBoost regressor with least RMSE score of `18` and MAE of `359`\n",
    "- We have best parameters as well as best fitted model as well."
   ]
  }
 ],
 "metadata": {
  "kernelspec": {
   "display_name": "Python 3",
   "language": "python",
   "name": "python3"
  },
  "language_info": {
   "codemirror_mode": {
    "name": "ipython",
    "version": 3
   },
   "file_extension": ".py",
   "mimetype": "text/x-python",
   "name": "python",
   "nbconvert_exporter": "python",
   "pygments_lexer": "ipython3",
   "version": "3.7.12"
  }
 },
 "nbformat": 4,
 "nbformat_minor": 4
}
